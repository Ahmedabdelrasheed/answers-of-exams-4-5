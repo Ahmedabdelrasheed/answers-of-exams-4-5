{
 "cells": [
  {
   "cell_type": "code",
   "execution_count": 1,
   "id": "18e062d8",
   "metadata": {},
   "outputs": [
    {
     "name": "stdout",
     "output_type": "stream",
     "text": [
      "72\n",
      "18\n",
      "18\n"
     ]
    }
   ],
   "source": [
    "class rectangle():\n",
    "    def __init__(self,length,weidth):\n",
    "        self.length=length\n",
    "        self.weidth=weidth\n",
    "    def perimeter(self):\n",
    "        return 2*(self.length+self.weidth)\n",
    "    def area(self):\n",
    "        return  self.length*self.weidth\n",
    "class paralle(rectangle):\n",
    "    def __init__(self,length,weidth,volume):\n",
    "        super().__init__(length,weidth)\n",
    "        self.volume=volume\n",
    "    def volume_of_Para(self):\n",
    "        return self.weidth*self.length*self.volume\n",
    "rect1=paralle(3,6,4)\n",
    "print(rect1.volume_of_Para()) \n",
    "print(rect1.perimeter())\n",
    "print(paralle.area(rect1))"
   ]
  },
  {
   "cell_type": "code",
   "execution_count": 2,
   "id": "811d775f",
   "metadata": {},
   "outputs": [
    {
     "name": "stdout",
     "output_type": "stream",
     "text": [
      "this person his name is ahmed  and his age is 15\n"
     ]
    },
    {
     "data": {
      "text/plain": [
       "'this person his name is ahmed and his age is 15 and his secondary school is elsa3dia secondary school'"
      ]
     },
     "execution_count": 2,
     "metadata": {},
     "output_type": "execute_result"
    }
   ],
   "source": [
    "class person():\n",
    "    name=\"ahmed\"\n",
    "    age=\"15\"\n",
    "    @classmethod\n",
    "    def classmethod(cls):\n",
    "        print(\"this person his name is {}  and his age is {}\".format(cls.name,cls.age))\n",
    "    def __init__(self,name,age):\n",
    "        self.name=name\n",
    "        self.age=age\n",
    "    def display(self):    \n",
    "        return \"this person his name is {} and his age is {} \".format(self.name,self.age)\n",
    "class student(person):\n",
    "    def __init__(self,name,age,school_name):\n",
    "        super().__init__(name,age)\n",
    "        self.school_name=school_name\n",
    "    def display2(self):\n",
    "        return \"this person his name is {} and his age is {} and his secondary school is {}\".format(self.name,self.age,self.school_name)\n",
    "person.classmethod()        \n",
    "aa=student(\"ahmed\",\"15\",\"elsa3dia secondary school\")\n",
    "aa.display2()"
   ]
  },
  {
   "cell_type": "code",
   "execution_count": null,
   "id": "0ada85f2",
   "metadata": {},
   "outputs": [],
   "source": []
  }
 ],
 "metadata": {
  "kernelspec": {
   "display_name": "Python 3 (ipykernel)",
   "language": "python",
   "name": "python3"
  },
  "language_info": {
   "codemirror_mode": {
    "name": "ipython",
    "version": 3
   },
   "file_extension": ".py",
   "mimetype": "text/x-python",
   "name": "python",
   "nbconvert_exporter": "python",
   "pygments_lexer": "ipython3",
   "version": "3.11.5"
  }
 },
 "nbformat": 4,
 "nbformat_minor": 5
}
