{
 "cells": [
  {
   "cell_type": "code",
   "execution_count": 1,
   "id": "d983b500",
   "metadata": {},
   "outputs": [
    {
     "name": "stdout",
     "output_type": "stream",
     "text": [
      "13\n",
      "44\n",
      "-2\n",
      "55\n",
      "10\n",
      "20\n",
      "30\n",
      "40\n",
      "50\n",
      "60\n",
      "70\n",
      "80\n",
      "90\n",
      "100\n"
     ]
    },
    {
     "data": {
      "text/plain": [
       "[1, 2, 5, 10]"
      ]
     },
     "execution_count": 1,
     "metadata": {},
     "output_type": "execute_result"
    }
   ],
   "source": [
    "class coputation():\n",
    "    num1=11\n",
    "    num2=2\n",
    "    num3=4\n",
    "    @classmethod\n",
    "    def add(cls):\n",
    "        return cls.num1+cls.num2\n",
    "    @classmethod\n",
    "    def multiple(cls):\n",
    "        return cls.num1*cls.num3\n",
    "    @classmethod\n",
    "    def sub(cls):\n",
    "        return cls.num2-cls.num3\n",
    "    def __init__(self,given_number):\n",
    "        self.given_number=given_number\n",
    "    def factorial(self):\n",
    "        factorial=1\n",
    "        count=1\n",
    "        while factorial<=self.given_number:\n",
    "            if self.given_number%factorial==0:\n",
    "                count+=1\n",
    "            if self.given_number%factorial==self.given_number:\n",
    "                count+=1\n",
    "            factorial+=1    \n",
    "        return count\n",
    "    def sum_method(self):\n",
    "        sum=0\n",
    "        for x in range(self.given_number+1):\n",
    "            sum+=x\n",
    "        print(sum)\n",
    "class calculation(coputation):\n",
    "    def __init__(self,given_number):\n",
    "        super().__init__(given_number)\n",
    "    def prime_method(self):\n",
    "        count=0\n",
    "        for x in range(1,self.given_number+1):\n",
    "            if self.given_number/x==1:\n",
    "                count+=1\n",
    "            if self.given_number/x==self.given_number:\n",
    "                count+=1\n",
    "        return count \n",
    "    def mulit_method(self):\n",
    "        mulit=1\n",
    "        result=mulit*self.given_number\n",
    "        while mulit<=10:\n",
    "            result=mulit*self.given_number \n",
    "            print(result)\n",
    "            mulit+=1 \n",
    "    @staticmethod\n",
    "    def list_div(self):\n",
    "        new_list=[]\n",
    "        for x in range(1,self.given_number+1):\n",
    "            if self.given_number%x==0:\n",
    "                new_list.append(x)\n",
    "        return new_list\n",
    "    \n",
    "\n",
    "         \n",
    "\n",
    "print(coputation.add())\n",
    "print(coputation.multiple())\n",
    "print(coputation.sub())\n",
    "a1=coputation(10)\n",
    "a1.factorial()\n",
    "a1.sum_method()\n",
    "a1=calculation(10)\n",
    "a1.prime_method()\n",
    "a1.mulit_method()\n",
    "calculation.list_div(a1)\n",
    "#calculation.list_dive_prime(a1)"
   ]
  },
  {
   "cell_type": "code",
   "execution_count": 2,
   "id": "02578fa2",
   "metadata": {},
   "outputs": [
    {
     "name": "stdout",
     "output_type": "stream",
     "text": [
      "504\n",
      "78.5\n",
      "15.0\n"
     ]
    }
   ],
   "source": [
    "from abc import ABC,abstractclassmethod\n",
    "class shape():\n",
    "    @abstractclassmethod\n",
    "    def area_method(self):\n",
    "        pass\n",
    "class rectangle(shape):\n",
    "    def __init__(self,length,width,volume):\n",
    "        self.length=length\n",
    "        self.width=width\n",
    "        self.volume=volume\n",
    "    def area_method(self):\n",
    "        return self.length*self.width*self.volume\n",
    "class ciricle(shape):\n",
    "    def __init__(self,beta,dimeter):\n",
    "        self.beta=beta\n",
    "        self.dimeter=dimeter\n",
    "    def area_method(self):\n",
    "        return self.beta*(self.dimeter**2)\n",
    "class rtiangle(shape):\n",
    "    def __init__(self,base,volume):\n",
    "        self.base=base\n",
    "        self.volume=volume\n",
    "    def area_method(self):    \n",
    "        return .5*self.base*self.volume\n",
    "    \n",
    "a=rectangle(7,8,9)\n",
    "b=ciricle(3.14,5)\n",
    "c=rtiangle(5,6)\n",
    "print(a.area_method())\n",
    "print(b.area_method())\n",
    "print(c.area_method())    \n",
    "        "
   ]
  },
  {
   "cell_type": "code",
   "execution_count": null,
   "id": "e02520aa",
   "metadata": {},
   "outputs": [],
   "source": []
  }
 ],
 "metadata": {
  "kernelspec": {
   "display_name": "Python 3 (ipykernel)",
   "language": "python",
   "name": "python3"
  },
  "language_info": {
   "codemirror_mode": {
    "name": "ipython",
    "version": 3
   },
   "file_extension": ".py",
   "mimetype": "text/x-python",
   "name": "python",
   "nbconvert_exporter": "python",
   "pygments_lexer": "ipython3",
   "version": "3.11.5"
  }
 },
 "nbformat": 4,
 "nbformat_minor": 5
}
